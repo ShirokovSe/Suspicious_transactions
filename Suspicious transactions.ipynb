{
 "cells": [
  {
   "cell_type": "markdown",
   "metadata": {},
   "source": [
    "# Suspicious transanctions"
   ]
  },
  {
   "cell_type": "markdown",
   "metadata": {},
   "source": [
    "This work analyzes suspicious bank transactions related to bitcoin transactions. The datasets were taken from the suggested links"
   ]
  },
  {
   "cell_type": "code",
   "execution_count": 1,
   "metadata": {},
   "outputs": [],
   "source": [
    "import pandas as pd\n",
    "import numpy as np\n",
    "import os\n",
    "import matplotlib\n",
    "from matplotlib import pyplot as plt\n",
    "from datetime import datetime\n",
    "from sklearn.preprocessing import LabelEncoder\n",
    "from sklearn.neighbors import NearestNeighbors\n",
    "import warnings\n",
    "\n",
    "warnings.filterwarnings('ignore')"
   ]
  },
  {
   "cell_type": "markdown",
   "metadata": {},
   "source": [
    "Download dataset. Some rows were broken, so it was needed to use an error_bad_lines key"
   ]
  },
  {
   "cell_type": "code",
   "execution_count": 2,
   "metadata": {},
   "outputs": [
    {
     "name": "stderr",
     "output_type": "stream",
     "text": [
      "b'Skipping line 12136: expected 5 fields, saw 13\\n'\n"
     ]
    }
   ],
   "source": [
    "data_btc_tx = pd.read_csv('btc-tx.csv', sep = ',',error_bad_lines=False)"
   ]
  },
  {
   "cell_type": "markdown",
   "metadata": {},
   "source": [
    "Let's transform a time column to a date data type for a follow processing"
   ]
  },
  {
   "cell_type": "code",
   "execution_count": 3,
   "metadata": {},
   "outputs": [],
   "source": [
    "data_btc_tx.time = pd.to_datetime(data_btc_tx.time)"
   ]
  },
  {
   "cell_type": "code",
   "execution_count": 4,
   "metadata": {},
   "outputs": [],
   "source": [
    "data_btc_tx.drop('Hash', axis = 1, inplace = True)"
   ]
  },
  {
   "cell_type": "markdown",
   "metadata": {},
   "source": [
    "After considering of data I decided to drop the Hash column as this column was uninformative and took too much place"
   ]
  },
  {
   "cell_type": "code",
   "execution_count": 5,
   "metadata": {},
   "outputs": [
    {
     "data": {
      "text/html": [
       "<div>\n",
       "<style scoped>\n",
       "    .dataframe tbody tr th:only-of-type {\n",
       "        vertical-align: middle;\n",
       "    }\n",
       "\n",
       "    .dataframe tbody tr th {\n",
       "        vertical-align: top;\n",
       "    }\n",
       "\n",
       "    .dataframe thead th {\n",
       "        text-align: right;\n",
       "    }\n",
       "</style>\n",
       "<table border=\"1\" class=\"dataframe\">\n",
       "  <thead>\n",
       "    <tr style=\"text-align: right;\">\n",
       "      <th></th>\n",
       "      <th>time</th>\n",
       "      <th>Sender</th>\n",
       "      <th>Receiver</th>\n",
       "      <th>Transaction_amount_BTC</th>\n",
       "    </tr>\n",
       "  </thead>\n",
       "  <tbody>\n",
       "    <tr>\n",
       "      <th>0</th>\n",
       "      <td>2015-03-31</td>\n",
       "      <td>1BtNH4rtj3PVe6PWYsziQMnXofZmoPmGHu</td>\n",
       "      <td>1PrGFmmFFeD6v9ihS74ewjAzSMmQxsQAuw</td>\n",
       "      <td>5272.9999</td>\n",
       "    </tr>\n",
       "    <tr>\n",
       "      <th>1</th>\n",
       "      <td>2015-03-31</td>\n",
       "      <td>1NE3QFkf4aFUgCNTvGjiZsY59yDsGratiU 1Bst4GwKrN2...</td>\n",
       "      <td>18zXyBVHCU3hu3ivszZNh3NqA1eA1jVBsm</td>\n",
       "      <td>4509.87714053</td>\n",
       "    </tr>\n",
       "  </tbody>\n",
       "</table>\n",
       "</div>"
      ],
      "text/plain": [
       "        time                                             Sender  \\\n",
       "0 2015-03-31                 1BtNH4rtj3PVe6PWYsziQMnXofZmoPmGHu   \n",
       "1 2015-03-31  1NE3QFkf4aFUgCNTvGjiZsY59yDsGratiU 1Bst4GwKrN2...   \n",
       "\n",
       "                             Receiver Transaction_amount_BTC  \n",
       "0  1PrGFmmFFeD6v9ihS74ewjAzSMmQxsQAuw              5272.9999  \n",
       "1  18zXyBVHCU3hu3ivszZNh3NqA1eA1jVBsm          4509.87714053  "
      ]
     },
     "execution_count": 5,
     "metadata": {},
     "output_type": "execute_result"
    }
   ],
   "source": [
    "data_btc_tx.head(2)"
   ]
  },
  {
   "cell_type": "code",
   "execution_count": 6,
   "metadata": {},
   "outputs": [],
   "source": [
    "data_map = pd.read_csv('download_transactions_map.csv')\n",
    "data_map.dropna(inplace = True)"
   ]
  },
  {
   "cell_type": "markdown",
   "metadata": {},
   "source": [
    "Make the same actions as for the prioir dataset"
   ]
  },
  {
   "cell_type": "code",
   "execution_count": 7,
   "metadata": {},
   "outputs": [],
   "source": [
    "data_map.end_date = pd.to_datetime(data_map.end_date)\n",
    "data_map.begin_date = pd.to_datetime(data_map.begin_date)"
   ]
  },
  {
   "cell_type": "code",
   "execution_count": 8,
   "metadata": {},
   "outputs": [
    {
     "data": {
      "text/html": [
       "<div>\n",
       "<style scoped>\n",
       "    .dataframe tbody tr th:only-of-type {\n",
       "        vertical-align: middle;\n",
       "    }\n",
       "\n",
       "    .dataframe tbody tr th {\n",
       "        vertical-align: top;\n",
       "    }\n",
       "\n",
       "    .dataframe thead th {\n",
       "        text-align: right;\n",
       "    }\n",
       "</style>\n",
       "<table border=\"1\" class=\"dataframe\">\n",
       "  <thead>\n",
       "    <tr style=\"text-align: right;\">\n",
       "      <th></th>\n",
       "      <th>id</th>\n",
       "      <th>icij_sar_id</th>\n",
       "      <th>filer_org_name_id</th>\n",
       "      <th>filer_org_name</th>\n",
       "      <th>begin_date</th>\n",
       "      <th>end_date</th>\n",
       "      <th>originator_bank_id</th>\n",
       "      <th>originator_bank</th>\n",
       "      <th>originator_bank_country</th>\n",
       "      <th>originator_iso</th>\n",
       "      <th>beneficiary_bank_id</th>\n",
       "      <th>beneficiary_bank</th>\n",
       "      <th>beneficiary_bank_country</th>\n",
       "      <th>beneficiary_iso</th>\n",
       "      <th>number_transactions</th>\n",
       "      <th>amount_transactions</th>\n",
       "    </tr>\n",
       "  </thead>\n",
       "  <tbody>\n",
       "    <tr>\n",
       "      <th>0</th>\n",
       "      <td>223254</td>\n",
       "      <td>3297</td>\n",
       "      <td>the-bank-of-new-york-mellon-corp</td>\n",
       "      <td>The Bank of New York Mellon Corp.</td>\n",
       "      <td>2015-03-25</td>\n",
       "      <td>2015-09-25</td>\n",
       "      <td>cimb-bank-berhad</td>\n",
       "      <td>CIMB Bank Berhad</td>\n",
       "      <td>Singapore</td>\n",
       "      <td>SGP</td>\n",
       "      <td>barclays-bank-plc-london-england-gbr</td>\n",
       "      <td>Barclays Bank Plc</td>\n",
       "      <td>United Kingdom</td>\n",
       "      <td>GBR</td>\n",
       "      <td>68.0</td>\n",
       "      <td>5.689852e+07</td>\n",
       "    </tr>\n",
       "    <tr>\n",
       "      <th>1</th>\n",
       "      <td>223255</td>\n",
       "      <td>3297</td>\n",
       "      <td>the-bank-of-new-york-mellon-corp</td>\n",
       "      <td>The Bank of New York Mellon Corp.</td>\n",
       "      <td>2015-03-30</td>\n",
       "      <td>2015-09-25</td>\n",
       "      <td>cimb-bank-berhad</td>\n",
       "      <td>CIMB Bank Berhad</td>\n",
       "      <td>Singapore</td>\n",
       "      <td>SGP</td>\n",
       "      <td>barclays-bank-plc-london-england-gbr</td>\n",
       "      <td>Barclays Bank Plc</td>\n",
       "      <td>United Kingdom</td>\n",
       "      <td>GBR</td>\n",
       "      <td>118.0</td>\n",
       "      <td>1.162384e+08</td>\n",
       "    </tr>\n",
       "  </tbody>\n",
       "</table>\n",
       "</div>"
      ],
      "text/plain": [
       "       id  icij_sar_id                 filer_org_name_id  \\\n",
       "0  223254         3297  the-bank-of-new-york-mellon-corp   \n",
       "1  223255         3297  the-bank-of-new-york-mellon-corp   \n",
       "\n",
       "                      filer_org_name begin_date   end_date originator_bank_id  \\\n",
       "0  The Bank of New York Mellon Corp. 2015-03-25 2015-09-25   cimb-bank-berhad   \n",
       "1  The Bank of New York Mellon Corp. 2015-03-30 2015-09-25   cimb-bank-berhad   \n",
       "\n",
       "    originator_bank originator_bank_country originator_iso  \\\n",
       "0  CIMB Bank Berhad               Singapore            SGP   \n",
       "1  CIMB Bank Berhad               Singapore            SGP   \n",
       "\n",
       "                    beneficiary_bank_id   beneficiary_bank  \\\n",
       "0  barclays-bank-plc-london-england-gbr  Barclays Bank Plc   \n",
       "1  barclays-bank-plc-london-england-gbr  Barclays Bank Plc   \n",
       "\n",
       "  beneficiary_bank_country beneficiary_iso  number_transactions  \\\n",
       "0           United Kingdom             GBR                 68.0   \n",
       "1           United Kingdom             GBR                118.0   \n",
       "\n",
       "   amount_transactions  \n",
       "0         5.689852e+07  \n",
       "1         1.162384e+08  "
      ]
     },
     "execution_count": 8,
     "metadata": {},
     "output_type": "execute_result"
    }
   ],
   "source": [
    "data_map.head(2)"
   ]
  },
  {
   "cell_type": "markdown",
   "metadata": {},
   "source": [
    "Also, let's deminish count of columns in this dataset as they in general duplicate another columns"
   ]
  },
  {
   "cell_type": "code",
   "execution_count": 9,
   "metadata": {},
   "outputs": [],
   "source": [
    "data_map.drop(['originator_iso','beneficiary_iso','number_transactions','icij_sar_id','filer_org_name_id','originator_bank_id','beneficiary_bank_id'], axis = 1, inplace = True)"
   ]
  },
  {
   "cell_type": "code",
   "execution_count": 10,
   "metadata": {},
   "outputs": [],
   "source": [
    "data_conn = pd.read_csv('download_bank_connections.csv')\n",
    "data_conn.drop(['filer_org_name_id', 'entity_b_id'], axis = 1, inplace = True)"
   ]
  },
  {
   "cell_type": "code",
   "execution_count": 11,
   "metadata": {},
   "outputs": [
    {
     "data": {
      "text/html": [
       "<div>\n",
       "<style scoped>\n",
       "    .dataframe tbody tr th:only-of-type {\n",
       "        vertical-align: middle;\n",
       "    }\n",
       "\n",
       "    .dataframe tbody tr th {\n",
       "        vertical-align: top;\n",
       "    }\n",
       "\n",
       "    .dataframe thead th {\n",
       "        text-align: right;\n",
       "    }\n",
       "</style>\n",
       "<table border=\"1\" class=\"dataframe\">\n",
       "  <thead>\n",
       "    <tr style=\"text-align: right;\">\n",
       "      <th></th>\n",
       "      <th>icij_sar_id</th>\n",
       "      <th>filer_org_name</th>\n",
       "      <th>entity_b</th>\n",
       "      <th>entity_b_country</th>\n",
       "      <th>entity_b_iso_code</th>\n",
       "    </tr>\n",
       "  </thead>\n",
       "  <tbody>\n",
       "    <tr>\n",
       "      <th>0</th>\n",
       "      <td>4132</td>\n",
       "      <td>Standard Chartered Plc</td>\n",
       "      <td>Habib Metropolitan Bank Limited</td>\n",
       "      <td>Pakistan</td>\n",
       "      <td>PAK</td>\n",
       "    </tr>\n",
       "    <tr>\n",
       "      <th>1</th>\n",
       "      <td>3181</td>\n",
       "      <td>Standard Chartered Plc</td>\n",
       "      <td>Standard Chartered Bank</td>\n",
       "      <td>United Arab Emirates</td>\n",
       "      <td>ARE</td>\n",
       "    </tr>\n",
       "  </tbody>\n",
       "</table>\n",
       "</div>"
      ],
      "text/plain": [
       "   icij_sar_id          filer_org_name                         entity_b  \\\n",
       "0         4132  Standard Chartered Plc  Habib Metropolitan Bank Limited   \n",
       "1         3181  Standard Chartered Plc          Standard Chartered Bank   \n",
       "\n",
       "       entity_b_country entity_b_iso_code  \n",
       "0              Pakistan               PAK  \n",
       "1  United Arab Emirates               ARE  "
      ]
     },
     "execution_count": 11,
     "metadata": {},
     "output_type": "execute_result"
    }
   ],
   "source": [
    "data_conn.head(2)"
   ]
  },
  {
   "cell_type": "markdown",
   "metadata": {},
   "source": [
    "As the first known Bitcoin transaction is dated from 2015-01-02 let's consider bank transactions from this date"
   ]
  },
  {
   "cell_type": "code",
   "execution_count": 12,
   "metadata": {},
   "outputs": [],
   "source": [
    "dates = ['2016','2017']\n",
    "btc_price = pd.read_csv('btc_usd_2015.csv')\n",
    "for date in dates:\n",
    "    btc_year = pd.read_csv(f'btc_usd_{date}.csv')\n",
    "    btc_price = pd.concat([btc_price, btc_year])"
   ]
  },
  {
   "cell_type": "code",
   "execution_count": 13,
   "metadata": {},
   "outputs": [
    {
     "data": {
      "text/html": [
       "<div>\n",
       "<style scoped>\n",
       "    .dataframe tbody tr th:only-of-type {\n",
       "        vertical-align: middle;\n",
       "    }\n",
       "\n",
       "    .dataframe tbody tr th {\n",
       "        vertical-align: top;\n",
       "    }\n",
       "\n",
       "    .dataframe thead th {\n",
       "        text-align: right;\n",
       "    }\n",
       "</style>\n",
       "<table border=\"1\" class=\"dataframe\">\n",
       "  <thead>\n",
       "    <tr style=\"text-align: right;\">\n",
       "      <th></th>\n",
       "      <th>time</th>\n",
       "      <th>price</th>\n",
       "    </tr>\n",
       "  </thead>\n",
       "  <tbody>\n",
       "    <tr>\n",
       "      <th>0</th>\n",
       "      <td>01.01.2015</td>\n",
       "      <td>316.910476</td>\n",
       "    </tr>\n",
       "    <tr>\n",
       "      <th>1</th>\n",
       "      <td>02.01.2015</td>\n",
       "      <td>315.218079</td>\n",
       "    </tr>\n",
       "  </tbody>\n",
       "</table>\n",
       "</div>"
      ],
      "text/plain": [
       "         time       price\n",
       "0  01.01.2015  316.910476\n",
       "1  02.01.2015  315.218079"
      ]
     },
     "execution_count": 13,
     "metadata": {},
     "output_type": "execute_result"
    }
   ],
   "source": [
    "btc_price.head(2)"
   ]
  },
  {
   "cell_type": "markdown",
   "metadata": {},
   "source": [
    "Here the same action, transforming a time column  to a  date type"
   ]
  },
  {
   "cell_type": "code",
   "execution_count": 14,
   "metadata": {},
   "outputs": [],
   "source": [
    "btc_price.time = pd.to_datetime(btc_price.time)"
   ]
  },
  {
   "cell_type": "markdown",
   "metadata": {},
   "source": [
    "The first dataset is consist of count of bitcoins in transaction. So I decided to merge two datasets: dataset with Bitcoin transactions and  bitcon prices and get a price in USD. This action will allow to find suspicious bank transactions related with bitcoin transactions"
   ]
  },
  {
   "cell_type": "code",
   "execution_count": 15,
   "metadata": {},
   "outputs": [],
   "source": [
    "btc_data = pd.merge(data_btc_tx, btc_price,how = 'left')"
   ]
  },
  {
   "cell_type": "markdown",
   "metadata": {},
   "source": [
    "A column Sender and a column Receiver in the first dataset are represented by encoded sequences. It is inconvinient to work with these long sequences, so let's decode all aliases using Label encoder"
   ]
  },
  {
   "cell_type": "code",
   "execution_count": 16,
   "metadata": {},
   "outputs": [],
   "source": [
    "encoder_sender = LabelEncoder()"
   ]
  },
  {
   "cell_type": "code",
   "execution_count": 17,
   "metadata": {},
   "outputs": [],
   "source": [
    "sender_encode = encoder_sender.fit_transform(btc_data.Sender.values)"
   ]
  },
  {
   "cell_type": "code",
   "execution_count": 18,
   "metadata": {},
   "outputs": [],
   "source": [
    "btc_data.Sender = sender_encode"
   ]
  },
  {
   "cell_type": "code",
   "execution_count": 19,
   "metadata": {},
   "outputs": [],
   "source": [
    "enc_receiver = LabelEncoder()\n",
    "receiver_encode = enc_receiver.fit_transform(btc_data.Receiver.values)"
   ]
  },
  {
   "cell_type": "code",
   "execution_count": 20,
   "metadata": {},
   "outputs": [],
   "source": [
    "btc_data.Receiver = receiver_encode"
   ]
  },
  {
   "cell_type": "markdown",
   "metadata": {},
   "source": [
    "At the next step let's get a full price in USD for bitcoin transactions. But there is a issue, a column \"Transaction_amount_BTC\" consists of object type data. So let's  convert them to a float data type to get a summary result. Unfortunately some meanings can't be present as a float type. The next cycle allows to get indexes of these meaning."
   ]
  },
  {
   "cell_type": "code",
   "execution_count": 21,
   "metadata": {},
   "outputs": [],
   "source": [
    "new_btc = []\n",
    "index_btc = []\n",
    "mistakes = []\n",
    "for num, number in enumerate(btc_data.Transaction_amount_BTC):\n",
    "    try:\n",
    "        new_btc.append(np.float64(number))\n",
    "    except:\n",
    "        mistakes.append(num)"
   ]
  },
  {
   "cell_type": "code",
   "execution_count": 22,
   "metadata": {},
   "outputs": [
    {
     "data": {
      "text/plain": [
       "8507           1 \"\n",
       "9043      \\r\\n20 \"\n",
       "9733           d \"\n",
       "10635     \\r\\n20 \"\n",
       "10647     \\r\\n20 \"\n",
       "10761     \\r\\n20 \"\n",
       "10906          d \"\n",
       "11647    \\r\\n200 \"\n",
       "25465     \\r\\n20 \"\n",
       "26231     \\r\\n20 \"\n",
       "28606     \\r\\n20 \"\n",
       "Name: Transaction_amount_BTC, dtype: object"
      ]
     },
     "execution_count": 22,
     "metadata": {},
     "output_type": "execute_result"
    }
   ],
   "source": [
    "btc_data.iloc[mistakes].Transaction_amount_BTC"
   ]
  },
  {
   "cell_type": "markdown",
   "metadata": {},
   "source": [
    "As we can see, these meanings are rather small or unknown, so let's drop these rows from dataset"
   ]
  },
  {
   "cell_type": "code",
   "execution_count": 23,
   "metadata": {},
   "outputs": [],
   "source": [
    "delete = btc_data.iloc[mistakes].index\n",
    "btc_data.drop(delete, axis = 0, inplace = True)"
   ]
  },
  {
   "cell_type": "code",
   "execution_count": 24,
   "metadata": {},
   "outputs": [],
   "source": [
    "btc_data.drop('Transaction_amount_BTC', axis = 1, inplace = True)"
   ]
  },
  {
   "cell_type": "code",
   "execution_count": 25,
   "metadata": {},
   "outputs": [],
   "source": [
    "btc_data['Trans_amount_BTC'] = new_btc"
   ]
  },
  {
   "cell_type": "code",
   "execution_count": 26,
   "metadata": {},
   "outputs": [
    {
     "data": {
      "text/html": [
       "<div>\n",
       "<style scoped>\n",
       "    .dataframe tbody tr th:only-of-type {\n",
       "        vertical-align: middle;\n",
       "    }\n",
       "\n",
       "    .dataframe tbody tr th {\n",
       "        vertical-align: top;\n",
       "    }\n",
       "\n",
       "    .dataframe thead th {\n",
       "        text-align: right;\n",
       "    }\n",
       "</style>\n",
       "<table border=\"1\" class=\"dataframe\">\n",
       "  <thead>\n",
       "    <tr style=\"text-align: right;\">\n",
       "      <th></th>\n",
       "      <th>time</th>\n",
       "      <th>Sender</th>\n",
       "      <th>Receiver</th>\n",
       "      <th>price</th>\n",
       "      <th>Trans_amount_BTC</th>\n",
       "    </tr>\n",
       "  </thead>\n",
       "  <tbody>\n",
       "    <tr>\n",
       "      <th>0</th>\n",
       "      <td>2015-03-31</td>\n",
       "      <td>64914</td>\n",
       "      <td>267373</td>\n",
       "      <td>247.031099</td>\n",
       "      <td>5272.999900</td>\n",
       "    </tr>\n",
       "    <tr>\n",
       "      <th>1</th>\n",
       "      <td>2015-03-31</td>\n",
       "      <td>132792</td>\n",
       "      <td>85982</td>\n",
       "      <td>247.031099</td>\n",
       "      <td>4509.877141</td>\n",
       "    </tr>\n",
       "    <tr>\n",
       "      <th>2</th>\n",
       "      <td>2015-03-31</td>\n",
       "      <td>21756</td>\n",
       "      <td>155511</td>\n",
       "      <td>247.031099</td>\n",
       "      <td>4138.094249</td>\n",
       "    </tr>\n",
       "  </tbody>\n",
       "</table>\n",
       "</div>"
      ],
      "text/plain": [
       "        time  Sender  Receiver       price  Trans_amount_BTC\n",
       "0 2015-03-31   64914    267373  247.031099       5272.999900\n",
       "1 2015-03-31  132792     85982  247.031099       4509.877141\n",
       "2 2015-03-31   21756    155511  247.031099       4138.094249"
      ]
     },
     "execution_count": 26,
     "metadata": {},
     "output_type": "execute_result"
    }
   ],
   "source": [
    "btc_data.head(3)"
   ]
  },
  {
   "cell_type": "markdown",
   "metadata": {},
   "source": [
    "At the next step, let's calculate a full price for every bitcoin transaction in  the dataset. These meaning will be the first feature for our model"
   ]
  },
  {
   "cell_type": "code",
   "execution_count": 27,
   "metadata": {},
   "outputs": [],
   "source": [
    "btc_data['btc_to_usd'] = btc_data['Trans_amount_BTC'] * btc_data['price']"
   ]
  },
  {
   "cell_type": "markdown",
   "metadata": {},
   "source": [
    "To compare bank transactions and bitcoin transactions let's use two features: amount in USD (was calculated at the prior step for bitcoin transactions, for bank transactions this feature is provided by default) and a transaction date. For our model we can't use date data type, so let's convert all dates to UNIX time, and these meanings will user as the second feature"
   ]
  },
  {
   "cell_type": "code",
   "execution_count": 28,
   "metadata": {},
   "outputs": [],
   "source": [
    "data_map['unix'] = data_map.begin_date.apply(lambda x: x.timestamp())   \n",
    "btc_data['unix'] = btc_data.time.apply(lambda x: x.timestamp())"
   ]
  },
  {
   "cell_type": "code",
   "execution_count": 29,
   "metadata": {},
   "outputs": [
    {
     "data": {
      "text/html": [
       "<div>\n",
       "<style scoped>\n",
       "    .dataframe tbody tr th:only-of-type {\n",
       "        vertical-align: middle;\n",
       "    }\n",
       "\n",
       "    .dataframe tbody tr th {\n",
       "        vertical-align: top;\n",
       "    }\n",
       "\n",
       "    .dataframe thead th {\n",
       "        text-align: right;\n",
       "    }\n",
       "</style>\n",
       "<table border=\"1\" class=\"dataframe\">\n",
       "  <thead>\n",
       "    <tr style=\"text-align: right;\">\n",
       "      <th></th>\n",
       "      <th>id</th>\n",
       "      <th>filer_org_name</th>\n",
       "      <th>begin_date</th>\n",
       "      <th>end_date</th>\n",
       "      <th>originator_bank</th>\n",
       "      <th>originator_bank_country</th>\n",
       "      <th>beneficiary_bank</th>\n",
       "      <th>beneficiary_bank_country</th>\n",
       "      <th>amount_transactions</th>\n",
       "      <th>unix</th>\n",
       "    </tr>\n",
       "  </thead>\n",
       "  <tbody>\n",
       "    <tr>\n",
       "      <th>0</th>\n",
       "      <td>223254</td>\n",
       "      <td>The Bank of New York Mellon Corp.</td>\n",
       "      <td>2015-03-25</td>\n",
       "      <td>2015-09-25</td>\n",
       "      <td>CIMB Bank Berhad</td>\n",
       "      <td>Singapore</td>\n",
       "      <td>Barclays Bank Plc</td>\n",
       "      <td>United Kingdom</td>\n",
       "      <td>5.689852e+07</td>\n",
       "      <td>1.427242e+09</td>\n",
       "    </tr>\n",
       "    <tr>\n",
       "      <th>1</th>\n",
       "      <td>223255</td>\n",
       "      <td>The Bank of New York Mellon Corp.</td>\n",
       "      <td>2015-03-30</td>\n",
       "      <td>2015-09-25</td>\n",
       "      <td>CIMB Bank Berhad</td>\n",
       "      <td>Singapore</td>\n",
       "      <td>Barclays Bank Plc</td>\n",
       "      <td>United Kingdom</td>\n",
       "      <td>1.162384e+08</td>\n",
       "      <td>1.427674e+09</td>\n",
       "    </tr>\n",
       "  </tbody>\n",
       "</table>\n",
       "</div>"
      ],
      "text/plain": [
       "       id                     filer_org_name begin_date   end_date  \\\n",
       "0  223254  The Bank of New York Mellon Corp. 2015-03-25 2015-09-25   \n",
       "1  223255  The Bank of New York Mellon Corp. 2015-03-30 2015-09-25   \n",
       "\n",
       "    originator_bank originator_bank_country   beneficiary_bank  \\\n",
       "0  CIMB Bank Berhad               Singapore  Barclays Bank Plc   \n",
       "1  CIMB Bank Berhad               Singapore  Barclays Bank Plc   \n",
       "\n",
       "  beneficiary_bank_country  amount_transactions          unix  \n",
       "0           United Kingdom         5.689852e+07  1.427242e+09  \n",
       "1           United Kingdom         1.162384e+08  1.427674e+09  "
      ]
     },
     "execution_count": 29,
     "metadata": {},
     "output_type": "execute_result"
    }
   ],
   "source": [
    "data_map.head(2)"
   ]
  },
  {
   "cell_type": "code",
   "execution_count": 32,
   "metadata": {},
   "outputs": [
    {
     "data": {
      "text/html": [
       "<div>\n",
       "<style scoped>\n",
       "    .dataframe tbody tr th:only-of-type {\n",
       "        vertical-align: middle;\n",
       "    }\n",
       "\n",
       "    .dataframe tbody tr th {\n",
       "        vertical-align: top;\n",
       "    }\n",
       "\n",
       "    .dataframe thead th {\n",
       "        text-align: right;\n",
       "    }\n",
       "</style>\n",
       "<table border=\"1\" class=\"dataframe\">\n",
       "  <thead>\n",
       "    <tr style=\"text-align: right;\">\n",
       "      <th></th>\n",
       "      <th>time</th>\n",
       "      <th>Sender</th>\n",
       "      <th>Receiver</th>\n",
       "      <th>price</th>\n",
       "      <th>Trans_amount_BTC</th>\n",
       "      <th>btc_to_usd</th>\n",
       "      <th>unix</th>\n",
       "    </tr>\n",
       "  </thead>\n",
       "  <tbody>\n",
       "    <tr>\n",
       "      <th>0</th>\n",
       "      <td>2015-03-31</td>\n",
       "      <td>64914</td>\n",
       "      <td>267373</td>\n",
       "      <td>247.031099</td>\n",
       "      <td>5272.999900</td>\n",
       "      <td>1.302595e+06</td>\n",
       "      <td>1.427760e+09</td>\n",
       "    </tr>\n",
       "    <tr>\n",
       "      <th>1</th>\n",
       "      <td>2015-03-31</td>\n",
       "      <td>132792</td>\n",
       "      <td>85982</td>\n",
       "      <td>247.031099</td>\n",
       "      <td>4509.877141</td>\n",
       "      <td>1.114080e+06</td>\n",
       "      <td>1.427760e+09</td>\n",
       "    </tr>\n",
       "  </tbody>\n",
       "</table>\n",
       "</div>"
      ],
      "text/plain": [
       "        time  Sender  Receiver       price  Trans_amount_BTC    btc_to_usd  \\\n",
       "0 2015-03-31   64914    267373  247.031099       5272.999900  1.302595e+06   \n",
       "1 2015-03-31  132792     85982  247.031099       4509.877141  1.114080e+06   \n",
       "\n",
       "           unix  \n",
       "0  1.427760e+09  \n",
       "1  1.427760e+09  "
      ]
     },
     "execution_count": 32,
     "metadata": {},
     "output_type": "execute_result"
    }
   ],
   "source": [
    "btc_data.head(2)"
   ]
  },
  {
   "cell_type": "markdown",
   "metadata": {},
   "source": [
    "For finding Bitcoin transactions among suspicious bank transactions let's use  a Nearest Neighbours algorithm. This algorithm is able to find the most similar transactions in our feature dimension. This algorithm will be learnt on bitcoin transactions data. After learning algorithm will be able to find the nearest bank transaction."
   ]
  },
  {
   "cell_type": "code",
   "execution_count": 30,
   "metadata": {},
   "outputs": [],
   "source": [
    "nbrs = NearestNeighbors(n_neighbors=1).fit(btc_data[['btc_to_usd','unix']].values)"
   ]
  },
  {
   "cell_type": "markdown",
   "metadata": {},
   "source": [
    "The next cycle works quite slowly, but it helps to extract the nearest transactions. Let's restrict out search with the following boundaries: difference between transactions is 2 days and difference between amounts is 30 000 USD (as a Bitcoin course is too changeable)"
   ]
  },
  {
   "cell_type": "code",
   "execution_count": 32,
   "metadata": {},
   "outputs": [],
   "source": [
    "similar = {}\n",
    "for number, trans in enumerate(data_map[['amount_transactions','unix']].values):\n",
    "    trans = trans.reshape(-1,2)\n",
    "    _, indexes = nbrs.kneighbors(trans)\n",
    "    for index in indexes[0]:\n",
    "        if abs(data_map.iloc[number].begin_date - btc_data.iloc[index].time).days <= 2 and abs(data_map.iloc[number].amount_transactions - btc_data.iloc[index].btc_to_usd) < 30000:\n",
    "            similar[number] = index"
   ]
  },
  {
   "cell_type": "markdown",
   "metadata": {},
   "source": [
    "So, we got indexes of the most suspicious Bitcoin transactions among the bank transactions. Let's look closely at every coincidence"
   ]
  },
  {
   "cell_type": "code",
   "execution_count": 33,
   "metadata": {},
   "outputs": [],
   "source": [
    "columns = ['time','filer_org_name','beneficiary_bank','bank_usd','btc_usd','difference','Sender']\n",
    "susp_trans = pd.DataFrame(columns=columns)"
   ]
  },
  {
   "cell_type": "code",
   "execution_count": 34,
   "metadata": {},
   "outputs": [],
   "source": [
    "for number, (ind_bank, ind_btc) in enumerate(similar.items()):\n",
    "    susp_trans.loc[number] = [btc_data.iloc[ind_btc]['time']] + data_map[['filer_org_name','beneficiary_bank','amount_transactions']].iloc[ind_bank].to_list() + \\\n",
    "            [btc_data.iloc[ind_btc]['btc_to_usd']] + [abs(btc_data.iloc[ind_btc]['btc_to_usd'] - data_map.iloc[ind_bank]['amount_transactions'])] + [btc_data.iloc[ind_btc]['Sender']]"
   ]
  },
  {
   "cell_type": "markdown",
   "metadata": {},
   "source": [
    "The Bank of New York Mellon Corp. is the most frequent met bank related with suspicious botcoin transaction"
   ]
  },
  {
   "cell_type": "code",
   "execution_count": 38,
   "metadata": {},
   "outputs": [
    {
     "data": {
      "text/html": [
       "<div>\n",
       "<style scoped>\n",
       "    .dataframe tbody tr th:only-of-type {\n",
       "        vertical-align: middle;\n",
       "    }\n",
       "\n",
       "    .dataframe tbody tr th {\n",
       "        vertical-align: top;\n",
       "    }\n",
       "\n",
       "    .dataframe thead th {\n",
       "        text-align: right;\n",
       "    }\n",
       "</style>\n",
       "<table border=\"1\" class=\"dataframe\">\n",
       "  <thead>\n",
       "    <tr style=\"text-align: right;\">\n",
       "      <th></th>\n",
       "      <th>time</th>\n",
       "      <th>filer_org_name</th>\n",
       "      <th>beneficiary_bank</th>\n",
       "      <th>bank_usd</th>\n",
       "      <th>btc_usd</th>\n",
       "      <th>difference</th>\n",
       "      <th>Sender</th>\n",
       "    </tr>\n",
       "  </thead>\n",
       "  <tbody>\n",
       "    <tr>\n",
       "      <th>0</th>\n",
       "      <td>2015-03-18</td>\n",
       "      <td>The Bank of New York Mellon Corp.</td>\n",
       "      <td>Credit Suisse AG</td>\n",
       "      <td>1762600.00</td>\n",
       "      <td>1.738694e+06</td>\n",
       "      <td>23906.136281</td>\n",
       "      <td>72020</td>\n",
       "    </tr>\n",
       "    <tr>\n",
       "      <th>1</th>\n",
       "      <td>2016-08-05</td>\n",
       "      <td>The Bank of New York Mellon Corp.</td>\n",
       "      <td>Bank Mandiri</td>\n",
       "      <td>807000.00</td>\n",
       "      <td>8.150265e+05</td>\n",
       "      <td>8026.470608</td>\n",
       "      <td>102689</td>\n",
       "    </tr>\n",
       "    <tr>\n",
       "      <th>3</th>\n",
       "      <td>2015-09-01</td>\n",
       "      <td>The Bank of New York Mellon Corp.</td>\n",
       "      <td>Standard Chartered Bank</td>\n",
       "      <td>6000000.00</td>\n",
       "      <td>6.011462e+06</td>\n",
       "      <td>11462.338438</td>\n",
       "      <td>79061</td>\n",
       "    </tr>\n",
       "    <tr>\n",
       "      <th>4</th>\n",
       "      <td>2015-01-27</td>\n",
       "      <td>The Bank of New York Mellon Corp.</td>\n",
       "      <td>Credit Suisse AG</td>\n",
       "      <td>2000000.00</td>\n",
       "      <td>2.018702e+06</td>\n",
       "      <td>18702.338847</td>\n",
       "      <td>1149</td>\n",
       "    </tr>\n",
       "    <tr>\n",
       "      <th>5</th>\n",
       "      <td>2015-01-10</td>\n",
       "      <td>The Bank of New York Mellon Corp.</td>\n",
       "      <td>AS Expobank</td>\n",
       "      <td>2774000.00</td>\n",
       "      <td>2.752499e+06</td>\n",
       "      <td>21500.522156</td>\n",
       "      <td>168790</td>\n",
       "    </tr>\n",
       "    <tr>\n",
       "      <th>...</th>\n",
       "      <td>...</td>\n",
       "      <td>...</td>\n",
       "      <td>...</td>\n",
       "      <td>...</td>\n",
       "      <td>...</td>\n",
       "      <td>...</td>\n",
       "      <td>...</td>\n",
       "    </tr>\n",
       "    <tr>\n",
       "      <th>95</th>\n",
       "      <td>2015-07-29</td>\n",
       "      <td>The Bank of New York Mellon Corp.</td>\n",
       "      <td>Credit Suisse AG</td>\n",
       "      <td>1000000.00</td>\n",
       "      <td>1.013261e+06</td>\n",
       "      <td>13261.025245</td>\n",
       "      <td>34713</td>\n",
       "    </tr>\n",
       "    <tr>\n",
       "      <th>96</th>\n",
       "      <td>2015-08-04</td>\n",
       "      <td>The Bank of New York Mellon Corp.</td>\n",
       "      <td>Kbl European Private Bankers S.A.</td>\n",
       "      <td>1055229.52</td>\n",
       "      <td>1.076557e+06</td>\n",
       "      <td>21327.813098</td>\n",
       "      <td>86593</td>\n",
       "    </tr>\n",
       "    <tr>\n",
       "      <th>97</th>\n",
       "      <td>2015-07-03</td>\n",
       "      <td>The Bank of New York Mellon Corp.</td>\n",
       "      <td>Credit Suisse AG</td>\n",
       "      <td>1082851.49</td>\n",
       "      <td>1.091379e+06</td>\n",
       "      <td>8527.618859</td>\n",
       "      <td>702</td>\n",
       "    </tr>\n",
       "    <tr>\n",
       "      <th>98</th>\n",
       "      <td>2016-12-16</td>\n",
       "      <td>The Bank of New York Mellon Corp.</td>\n",
       "      <td>Norvik Banka, JSC</td>\n",
       "      <td>1662500.00</td>\n",
       "      <td>1.683118e+06</td>\n",
       "      <td>20617.970942</td>\n",
       "      <td>54828</td>\n",
       "    </tr>\n",
       "    <tr>\n",
       "      <th>99</th>\n",
       "      <td>2016-10-03</td>\n",
       "      <td>The Bank of New York Mellon Corp.</td>\n",
       "      <td>JSC Norvik Banka</td>\n",
       "      <td>2078380.47</td>\n",
       "      <td>2.061444e+06</td>\n",
       "      <td>16936.248371</td>\n",
       "      <td>11848</td>\n",
       "    </tr>\n",
       "  </tbody>\n",
       "</table>\n",
       "<p>86 rows × 7 columns</p>\n",
       "</div>"
      ],
      "text/plain": [
       "         time                     filer_org_name  \\\n",
       "0  2015-03-18  The Bank of New York Mellon Corp.   \n",
       "1  2016-08-05  The Bank of New York Mellon Corp.   \n",
       "3  2015-09-01  The Bank of New York Mellon Corp.   \n",
       "4  2015-01-27  The Bank of New York Mellon Corp.   \n",
       "5  2015-01-10  The Bank of New York Mellon Corp.   \n",
       "..        ...                                ...   \n",
       "95 2015-07-29  The Bank of New York Mellon Corp.   \n",
       "96 2015-08-04  The Bank of New York Mellon Corp.   \n",
       "97 2015-07-03  The Bank of New York Mellon Corp.   \n",
       "98 2016-12-16  The Bank of New York Mellon Corp.   \n",
       "99 2016-10-03  The Bank of New York Mellon Corp.   \n",
       "\n",
       "                      beneficiary_bank    bank_usd       btc_usd  \\\n",
       "0                     Credit Suisse AG  1762600.00  1.738694e+06   \n",
       "1                         Bank Mandiri   807000.00  8.150265e+05   \n",
       "3              Standard Chartered Bank  6000000.00  6.011462e+06   \n",
       "4                     Credit Suisse AG  2000000.00  2.018702e+06   \n",
       "5                          AS Expobank  2774000.00  2.752499e+06   \n",
       "..                                 ...         ...           ...   \n",
       "95                    Credit Suisse AG  1000000.00  1.013261e+06   \n",
       "96  Kbl European Private Bankers S.A.   1055229.52  1.076557e+06   \n",
       "97                    Credit Suisse AG  1082851.49  1.091379e+06   \n",
       "98                   Norvik Banka, JSC  1662500.00  1.683118e+06   \n",
       "99                    JSC Norvik Banka  2078380.47  2.061444e+06   \n",
       "\n",
       "      difference  Sender  \n",
       "0   23906.136281   72020  \n",
       "1    8026.470608  102689  \n",
       "3   11462.338438   79061  \n",
       "4   18702.338847    1149  \n",
       "5   21500.522156  168790  \n",
       "..           ...     ...  \n",
       "95  13261.025245   34713  \n",
       "96  21327.813098   86593  \n",
       "97   8527.618859     702  \n",
       "98  20617.970942   54828  \n",
       "99  16936.248371   11848  \n",
       "\n",
       "[86 rows x 7 columns]"
      ]
     },
     "execution_count": 38,
     "metadata": {},
     "output_type": "execute_result"
    }
   ],
   "source": [
    "susp_trans[susp_trans.filer_org_name == 'The Bank of New York Mellon Corp.']"
   ]
  },
  {
   "cell_type": "markdown",
   "metadata": {},
   "source": [
    "'Deutsche Bank AG'"
   ]
  },
  {
   "cell_type": "code",
   "execution_count": 39,
   "metadata": {},
   "outputs": [
    {
     "data": {
      "text/html": [
       "<div>\n",
       "<style scoped>\n",
       "    .dataframe tbody tr th:only-of-type {\n",
       "        vertical-align: middle;\n",
       "    }\n",
       "\n",
       "    .dataframe tbody tr th {\n",
       "        vertical-align: top;\n",
       "    }\n",
       "\n",
       "    .dataframe thead th {\n",
       "        text-align: right;\n",
       "    }\n",
       "</style>\n",
       "<table border=\"1\" class=\"dataframe\">\n",
       "  <thead>\n",
       "    <tr style=\"text-align: right;\">\n",
       "      <th></th>\n",
       "      <th>time</th>\n",
       "      <th>filer_org_name</th>\n",
       "      <th>beneficiary_bank</th>\n",
       "      <th>bank_usd</th>\n",
       "      <th>btc_usd</th>\n",
       "      <th>difference</th>\n",
       "      <th>Sender</th>\n",
       "    </tr>\n",
       "  </thead>\n",
       "  <tbody>\n",
       "    <tr>\n",
       "      <th>2</th>\n",
       "      <td>2016-12-30</td>\n",
       "      <td>Deutsche Bank AG</td>\n",
       "      <td>DBS Bank Ltd</td>\n",
       "      <td>4000000.0</td>\n",
       "      <td>4.013596e+06</td>\n",
       "      <td>13595.676693</td>\n",
       "      <td>107063</td>\n",
       "    </tr>\n",
       "    <tr>\n",
       "      <th>28</th>\n",
       "      <td>2016-02-01</td>\n",
       "      <td>Deutsche Bank AG</td>\n",
       "      <td>PT Bank Windu Kentjana Internation</td>\n",
       "      <td>1172683.0</td>\n",
       "      <td>1.167022e+06</td>\n",
       "      <td>5661.412355</td>\n",
       "      <td>105702</td>\n",
       "    </tr>\n",
       "  </tbody>\n",
       "</table>\n",
       "</div>"
      ],
      "text/plain": [
       "         time    filer_org_name                    beneficiary_bank  \\\n",
       "2  2016-12-30  Deutsche Bank AG                        DBS Bank Ltd   \n",
       "28 2016-02-01  Deutsche Bank AG  PT Bank Windu Kentjana Internation   \n",
       "\n",
       "     bank_usd       btc_usd    difference  Sender  \n",
       "2   4000000.0  4.013596e+06  13595.676693  107063  \n",
       "28  1172683.0  1.167022e+06   5661.412355  105702  "
      ]
     },
     "execution_count": 39,
     "metadata": {},
     "output_type": "execute_result"
    }
   ],
   "source": [
    "susp_trans[susp_trans.filer_org_name == 'Deutsche Bank AG']"
   ]
  },
  {
   "cell_type": "markdown",
   "metadata": {},
   "source": [
    "'The Northern Trust Company'"
   ]
  },
  {
   "cell_type": "code",
   "execution_count": 40,
   "metadata": {},
   "outputs": [
    {
     "data": {
      "text/html": [
       "<div>\n",
       "<style scoped>\n",
       "    .dataframe tbody tr th:only-of-type {\n",
       "        vertical-align: middle;\n",
       "    }\n",
       "\n",
       "    .dataframe tbody tr th {\n",
       "        vertical-align: top;\n",
       "    }\n",
       "\n",
       "    .dataframe thead th {\n",
       "        text-align: right;\n",
       "    }\n",
       "</style>\n",
       "<table border=\"1\" class=\"dataframe\">\n",
       "  <thead>\n",
       "    <tr style=\"text-align: right;\">\n",
       "      <th></th>\n",
       "      <th>time</th>\n",
       "      <th>filer_org_name</th>\n",
       "      <th>beneficiary_bank</th>\n",
       "      <th>bank_usd</th>\n",
       "      <th>btc_usd</th>\n",
       "      <th>difference</th>\n",
       "      <th>Sender</th>\n",
       "    </tr>\n",
       "  </thead>\n",
       "  <tbody>\n",
       "    <tr>\n",
       "      <th>8</th>\n",
       "      <td>2015-01-26</td>\n",
       "      <td>The Northern Trust Company</td>\n",
       "      <td>Bank J Safra Sarasin Ltd</td>\n",
       "      <td>1000000.0</td>\n",
       "      <td>999823.008932</td>\n",
       "      <td>176.991068</td>\n",
       "      <td>82898</td>\n",
       "    </tr>\n",
       "  </tbody>\n",
       "</table>\n",
       "</div>"
      ],
      "text/plain": [
       "        time              filer_org_name          beneficiary_bank   bank_usd  \\\n",
       "8 2015-01-26  The Northern Trust Company  Bank J Safra Sarasin Ltd  1000000.0   \n",
       "\n",
       "         btc_usd  difference Sender  \n",
       "8  999823.008932  176.991068  82898  "
      ]
     },
     "execution_count": 40,
     "metadata": {},
     "output_type": "execute_result"
    }
   ],
   "source": [
    "susp_trans[susp_trans.filer_org_name == 'The Northern Trust Company']"
   ]
  },
  {
   "cell_type": "markdown",
   "metadata": {},
   "source": [
    "'China Investment Corporation'"
   ]
  },
  {
   "cell_type": "code",
   "execution_count": 41,
   "metadata": {},
   "outputs": [
    {
     "data": {
      "text/html": [
       "<div>\n",
       "<style scoped>\n",
       "    .dataframe tbody tr th:only-of-type {\n",
       "        vertical-align: middle;\n",
       "    }\n",
       "\n",
       "    .dataframe tbody tr th {\n",
       "        vertical-align: top;\n",
       "    }\n",
       "\n",
       "    .dataframe thead th {\n",
       "        text-align: right;\n",
       "    }\n",
       "</style>\n",
       "<table border=\"1\" class=\"dataframe\">\n",
       "  <thead>\n",
       "    <tr style=\"text-align: right;\">\n",
       "      <th></th>\n",
       "      <th>time</th>\n",
       "      <th>filer_org_name</th>\n",
       "      <th>beneficiary_bank</th>\n",
       "      <th>bank_usd</th>\n",
       "      <th>btc_usd</th>\n",
       "      <th>difference</th>\n",
       "      <th>Sender</th>\n",
       "    </tr>\n",
       "  </thead>\n",
       "  <tbody>\n",
       "    <tr>\n",
       "      <th>10</th>\n",
       "      <td>2016-12-01</td>\n",
       "      <td>China Investment Corporation</td>\n",
       "      <td>HSBC Bank Plc</td>\n",
       "      <td>140.44</td>\n",
       "      <td>1.404249e+02</td>\n",
       "      <td>0.015087</td>\n",
       "      <td>151840</td>\n",
       "    </tr>\n",
       "    <tr>\n",
       "      <th>26</th>\n",
       "      <td>2016-01-15</td>\n",
       "      <td>China Investment Corporation</td>\n",
       "      <td>Saigon Thuong Tin Commercial Joint Stock Bank</td>\n",
       "      <td>1000000.00</td>\n",
       "      <td>1.021339e+06</td>\n",
       "      <td>21338.946410</td>\n",
       "      <td>155855</td>\n",
       "    </tr>\n",
       "    <tr>\n",
       "      <th>27</th>\n",
       "      <td>2016-02-24</td>\n",
       "      <td>China Investment Corporation</td>\n",
       "      <td>Banque Pour Le Commerce Exterieur Lao Public</td>\n",
       "      <td>1388230.00</td>\n",
       "      <td>1.385127e+06</td>\n",
       "      <td>3102.795845</td>\n",
       "      <td>171081</td>\n",
       "    </tr>\n",
       "    <tr>\n",
       "      <th>33</th>\n",
       "      <td>2016-04-08</td>\n",
       "      <td>China Investment Corporation</td>\n",
       "      <td>Branch Banking And Trust Company</td>\n",
       "      <td>1779903.99</td>\n",
       "      <td>1.769298e+06</td>\n",
       "      <td>10605.803719</td>\n",
       "      <td>98686</td>\n",
       "    </tr>\n",
       "  </tbody>\n",
       "</table>\n",
       "</div>"
      ],
      "text/plain": [
       "         time                filer_org_name  \\\n",
       "10 2016-12-01  China Investment Corporation   \n",
       "26 2016-01-15  China Investment Corporation   \n",
       "27 2016-02-24  China Investment Corporation   \n",
       "33 2016-04-08  China Investment Corporation   \n",
       "\n",
       "                                 beneficiary_bank    bank_usd       btc_usd  \\\n",
       "10                                  HSBC Bank Plc      140.44  1.404249e+02   \n",
       "26  Saigon Thuong Tin Commercial Joint Stock Bank  1000000.00  1.021339e+06   \n",
       "27   Banque Pour Le Commerce Exterieur Lao Public  1388230.00  1.385127e+06   \n",
       "33               Branch Banking And Trust Company  1779903.99  1.769298e+06   \n",
       "\n",
       "      difference  Sender  \n",
       "10      0.015087  151840  \n",
       "26  21338.946410  155855  \n",
       "27   3102.795845  171081  \n",
       "33  10605.803719   98686  "
      ]
     },
     "execution_count": 41,
     "metadata": {},
     "output_type": "execute_result"
    }
   ],
   "source": [
    "susp_trans[susp_trans.filer_org_name == 'China Investment Corporation']"
   ]
  },
  {
   "cell_type": "markdown",
   "metadata": {},
   "source": [
    "'Barclays Plc'"
   ]
  },
  {
   "cell_type": "code",
   "execution_count": 42,
   "metadata": {},
   "outputs": [
    {
     "data": {
      "text/html": [
       "<div>\n",
       "<style scoped>\n",
       "    .dataframe tbody tr th:only-of-type {\n",
       "        vertical-align: middle;\n",
       "    }\n",
       "\n",
       "    .dataframe tbody tr th {\n",
       "        vertical-align: top;\n",
       "    }\n",
       "\n",
       "    .dataframe thead th {\n",
       "        text-align: right;\n",
       "    }\n",
       "</style>\n",
       "<table border=\"1\" class=\"dataframe\">\n",
       "  <thead>\n",
       "    <tr style=\"text-align: right;\">\n",
       "      <th></th>\n",
       "      <th>time</th>\n",
       "      <th>filer_org_name</th>\n",
       "      <th>beneficiary_bank</th>\n",
       "      <th>bank_usd</th>\n",
       "      <th>btc_usd</th>\n",
       "      <th>difference</th>\n",
       "      <th>Sender</th>\n",
       "    </tr>\n",
       "  </thead>\n",
       "  <tbody>\n",
       "    <tr>\n",
       "      <th>11</th>\n",
       "      <td>2015-07-07</td>\n",
       "      <td>Barclays Plc</td>\n",
       "      <td>Barclays</td>\n",
       "      <td>1999887.04</td>\n",
       "      <td>1.979862e+06</td>\n",
       "      <td>20024.702388</td>\n",
       "      <td>115193</td>\n",
       "    </tr>\n",
       "  </tbody>\n",
       "</table>\n",
       "</div>"
      ],
      "text/plain": [
       "         time filer_org_name beneficiary_bank    bank_usd       btc_usd  \\\n",
       "11 2015-07-07   Barclays Plc         Barclays  1999887.04  1.979862e+06   \n",
       "\n",
       "      difference  Sender  \n",
       "11  20024.702388  115193  "
      ]
     },
     "execution_count": 42,
     "metadata": {},
     "output_type": "execute_result"
    }
   ],
   "source": [
    "susp_trans[susp_trans.filer_org_name == 'Barclays Plc']"
   ]
  },
  {
   "cell_type": "markdown",
   "metadata": {},
   "source": [
    "'Citigroup, Inc.'"
   ]
  },
  {
   "cell_type": "code",
   "execution_count": 43,
   "metadata": {},
   "outputs": [
    {
     "data": {
      "text/html": [
       "<div>\n",
       "<style scoped>\n",
       "    .dataframe tbody tr th:only-of-type {\n",
       "        vertical-align: middle;\n",
       "    }\n",
       "\n",
       "    .dataframe tbody tr th {\n",
       "        vertical-align: top;\n",
       "    }\n",
       "\n",
       "    .dataframe thead th {\n",
       "        text-align: right;\n",
       "    }\n",
       "</style>\n",
       "<table border=\"1\" class=\"dataframe\">\n",
       "  <thead>\n",
       "    <tr style=\"text-align: right;\">\n",
       "      <th></th>\n",
       "      <th>time</th>\n",
       "      <th>filer_org_name</th>\n",
       "      <th>beneficiary_bank</th>\n",
       "      <th>bank_usd</th>\n",
       "      <th>btc_usd</th>\n",
       "      <th>difference</th>\n",
       "      <th>Sender</th>\n",
       "    </tr>\n",
       "  </thead>\n",
       "  <tbody>\n",
       "    <tr>\n",
       "      <th>17</th>\n",
       "      <td>2015-12-01</td>\n",
       "      <td>Citigroup, Inc.</td>\n",
       "      <td>Harris Na</td>\n",
       "      <td>120133.2</td>\n",
       "      <td>134873.114122</td>\n",
       "      <td>14739.914122</td>\n",
       "      <td>19485</td>\n",
       "    </tr>\n",
       "    <tr>\n",
       "      <th>18</th>\n",
       "      <td>2015-12-01</td>\n",
       "      <td>Citigroup, Inc.</td>\n",
       "      <td>Norvik Banka JSC</td>\n",
       "      <td>274000.0</td>\n",
       "      <td>292966.439124</td>\n",
       "      <td>18966.439124</td>\n",
       "      <td>103630</td>\n",
       "    </tr>\n",
       "  </tbody>\n",
       "</table>\n",
       "</div>"
      ],
      "text/plain": [
       "         time   filer_org_name  beneficiary_bank  bank_usd        btc_usd  \\\n",
       "17 2015-12-01  Citigroup, Inc.         Harris Na  120133.2  134873.114122   \n",
       "18 2015-12-01  Citigroup, Inc.  Norvik Banka JSC  274000.0  292966.439124   \n",
       "\n",
       "      difference  Sender  \n",
       "17  14739.914122   19485  \n",
       "18  18966.439124  103630  "
      ]
     },
     "execution_count": 43,
     "metadata": {},
     "output_type": "execute_result"
    }
   ],
   "source": [
    "susp_trans[susp_trans.filer_org_name == 'Citigroup, Inc.']"
   ]
  },
  {
   "cell_type": "markdown",
   "metadata": {},
   "source": [
    "'Standard Chartered Plc'"
   ]
  },
  {
   "cell_type": "code",
   "execution_count": 44,
   "metadata": {},
   "outputs": [
    {
     "data": {
      "text/html": [
       "<div>\n",
       "<style scoped>\n",
       "    .dataframe tbody tr th:only-of-type {\n",
       "        vertical-align: middle;\n",
       "    }\n",
       "\n",
       "    .dataframe tbody tr th {\n",
       "        vertical-align: top;\n",
       "    }\n",
       "\n",
       "    .dataframe thead th {\n",
       "        text-align: right;\n",
       "    }\n",
       "</style>\n",
       "<table border=\"1\" class=\"dataframe\">\n",
       "  <thead>\n",
       "    <tr style=\"text-align: right;\">\n",
       "      <th></th>\n",
       "      <th>time</th>\n",
       "      <th>filer_org_name</th>\n",
       "      <th>beneficiary_bank</th>\n",
       "      <th>bank_usd</th>\n",
       "      <th>btc_usd</th>\n",
       "      <th>difference</th>\n",
       "      <th>Sender</th>\n",
       "    </tr>\n",
       "  </thead>\n",
       "  <tbody>\n",
       "    <tr>\n",
       "      <th>21</th>\n",
       "      <td>2015-03-19</td>\n",
       "      <td>Standard Chartered Plc</td>\n",
       "      <td>Standard Chartered Bank Hong Kong Ltd</td>\n",
       "      <td>1251050.00</td>\n",
       "      <td>1.258085e+06</td>\n",
       "      <td>7034.964997</td>\n",
       "      <td>133584</td>\n",
       "    </tr>\n",
       "    <tr>\n",
       "      <th>22</th>\n",
       "      <td>2015-05-01</td>\n",
       "      <td>Standard Chartered Plc</td>\n",
       "      <td>Standard Chartered Bank Hong Kong Ltd</td>\n",
       "      <td>1374000.62</td>\n",
       "      <td>1.381535e+06</td>\n",
       "      <td>7534.280822</td>\n",
       "      <td>72020</td>\n",
       "    </tr>\n",
       "    <tr>\n",
       "      <th>23</th>\n",
       "      <td>2015-05-01</td>\n",
       "      <td>Standard Chartered Plc</td>\n",
       "      <td>DBS Bank Ltd</td>\n",
       "      <td>1680090.00</td>\n",
       "      <td>1.651577e+06</td>\n",
       "      <td>28513.061874</td>\n",
       "      <td>72020</td>\n",
       "    </tr>\n",
       "  </tbody>\n",
       "</table>\n",
       "</div>"
      ],
      "text/plain": [
       "         time          filer_org_name                       beneficiary_bank  \\\n",
       "21 2015-03-19  Standard Chartered Plc  Standard Chartered Bank Hong Kong Ltd   \n",
       "22 2015-05-01  Standard Chartered Plc  Standard Chartered Bank Hong Kong Ltd   \n",
       "23 2015-05-01  Standard Chartered Plc                           DBS Bank Ltd   \n",
       "\n",
       "      bank_usd       btc_usd    difference  Sender  \n",
       "21  1251050.00  1.258085e+06   7034.964997  133584  \n",
       "22  1374000.62  1.381535e+06   7534.280822   72020  \n",
       "23  1680090.00  1.651577e+06  28513.061874   72020  "
      ]
     },
     "execution_count": 44,
     "metadata": {},
     "output_type": "execute_result"
    }
   ],
   "source": [
    "susp_trans[susp_trans.filer_org_name == 'Standard Chartered Plc']"
   ]
  },
  {
   "cell_type": "markdown",
   "metadata": {},
   "source": [
    "'Fifth Third Bank, National Association'"
   ]
  },
  {
   "cell_type": "code",
   "execution_count": 45,
   "metadata": {},
   "outputs": [
    {
     "data": {
      "text/html": [
       "<div>\n",
       "<style scoped>\n",
       "    .dataframe tbody tr th:only-of-type {\n",
       "        vertical-align: middle;\n",
       "    }\n",
       "\n",
       "    .dataframe tbody tr th {\n",
       "        vertical-align: top;\n",
       "    }\n",
       "\n",
       "    .dataframe thead th {\n",
       "        text-align: right;\n",
       "    }\n",
       "</style>\n",
       "<table border=\"1\" class=\"dataframe\">\n",
       "  <thead>\n",
       "    <tr style=\"text-align: right;\">\n",
       "      <th></th>\n",
       "      <th>time</th>\n",
       "      <th>filer_org_name</th>\n",
       "      <th>beneficiary_bank</th>\n",
       "      <th>bank_usd</th>\n",
       "      <th>btc_usd</th>\n",
       "      <th>difference</th>\n",
       "      <th>Sender</th>\n",
       "    </tr>\n",
       "  </thead>\n",
       "  <tbody>\n",
       "    <tr>\n",
       "      <th>32</th>\n",
       "      <td>2015-03-18</td>\n",
       "      <td>Fifth Third Bank, National Association</td>\n",
       "      <td>Fifth Third Bank</td>\n",
       "      <td>1245000.0</td>\n",
       "      <td>1.246980e+06</td>\n",
       "      <td>1980.351292</td>\n",
       "      <td>11984</td>\n",
       "    </tr>\n",
       "  </tbody>\n",
       "</table>\n",
       "</div>"
      ],
      "text/plain": [
       "         time                          filer_org_name  beneficiary_bank  \\\n",
       "32 2015-03-18  Fifth Third Bank, National Association  Fifth Third Bank   \n",
       "\n",
       "     bank_usd       btc_usd   difference Sender  \n",
       "32  1245000.0  1.246980e+06  1980.351292  11984  "
      ]
     },
     "execution_count": 45,
     "metadata": {},
     "output_type": "execute_result"
    }
   ],
   "source": [
    "susp_trans[susp_trans.filer_org_name == 'Fifth Third Bank, National Association']"
   ]
  },
  {
   "cell_type": "markdown",
   "metadata": {},
   "source": [
    "'HSBC Holdings Plc'"
   ]
  },
  {
   "cell_type": "code",
   "execution_count": 46,
   "metadata": {},
   "outputs": [
    {
     "data": {
      "text/html": [
       "<div>\n",
       "<style scoped>\n",
       "    .dataframe tbody tr th:only-of-type {\n",
       "        vertical-align: middle;\n",
       "    }\n",
       "\n",
       "    .dataframe tbody tr th {\n",
       "        vertical-align: top;\n",
       "    }\n",
       "\n",
       "    .dataframe thead th {\n",
       "        text-align: right;\n",
       "    }\n",
       "</style>\n",
       "<table border=\"1\" class=\"dataframe\">\n",
       "  <thead>\n",
       "    <tr style=\"text-align: right;\">\n",
       "      <th></th>\n",
       "      <th>time</th>\n",
       "      <th>filer_org_name</th>\n",
       "      <th>beneficiary_bank</th>\n",
       "      <th>bank_usd</th>\n",
       "      <th>btc_usd</th>\n",
       "      <th>difference</th>\n",
       "      <th>Sender</th>\n",
       "    </tr>\n",
       "  </thead>\n",
       "  <tbody>\n",
       "    <tr>\n",
       "      <th>100</th>\n",
       "      <td>2016-03-24</td>\n",
       "      <td>HSBC Holdings Plc</td>\n",
       "      <td>HSBC Hong Kong</td>\n",
       "      <td>1654939.98</td>\n",
       "      <td>1.651695e+06</td>\n",
       "      <td>3244.754643</td>\n",
       "      <td>140560</td>\n",
       "    </tr>\n",
       "  </tbody>\n",
       "</table>\n",
       "</div>"
      ],
      "text/plain": [
       "          time     filer_org_name beneficiary_bank    bank_usd       btc_usd  \\\n",
       "100 2016-03-24  HSBC Holdings Plc   HSBC Hong Kong  1654939.98  1.651695e+06   \n",
       "\n",
       "      difference  Sender  \n",
       "100  3244.754643  140560  "
      ]
     },
     "execution_count": 46,
     "metadata": {},
     "output_type": "execute_result"
    }
   ],
   "source": [
    "susp_trans[susp_trans.filer_org_name == 'HSBC Holdings Plc']"
   ]
  },
  {
   "cell_type": "markdown",
   "metadata": {},
   "source": [
    "In summary, using Nearest Neighbours algorithm and information about transactions it turned out to find 101 Bitcoin transactions that can be related with bank transactions"
   ]
  },
  {
   "cell_type": "markdown",
   "metadata": {},
   "source": [
    "# Intersting observations"
   ]
  },
  {
   "cell_type": "markdown",
   "metadata": {},
   "source": [
    "Let's consider the dataset with bitcoin transactions more closely. At first, let's find a Sender who does transactions the most frequently"
   ]
  },
  {
   "cell_type": "code",
   "execution_count": 47,
   "metadata": {},
   "outputs": [
    {
     "data": {
      "text/html": [
       "<div>\n",
       "<style scoped>\n",
       "    .dataframe tbody tr th:only-of-type {\n",
       "        vertical-align: middle;\n",
       "    }\n",
       "\n",
       "    .dataframe tbody tr th {\n",
       "        vertical-align: top;\n",
       "    }\n",
       "\n",
       "    .dataframe thead th {\n",
       "        text-align: right;\n",
       "    }\n",
       "</style>\n",
       "<table border=\"1\" class=\"dataframe\">\n",
       "  <thead>\n",
       "    <tr style=\"text-align: right;\">\n",
       "      <th></th>\n",
       "      <th>time</th>\n",
       "      <th>Receiver</th>\n",
       "      <th>price</th>\n",
       "      <th>Trans_amount_BTC</th>\n",
       "      <th>btc_to_usd</th>\n",
       "      <th>unix</th>\n",
       "    </tr>\n",
       "    <tr>\n",
       "      <th>Sender</th>\n",
       "      <th></th>\n",
       "      <th></th>\n",
       "      <th></th>\n",
       "      <th></th>\n",
       "      <th></th>\n",
       "      <th></th>\n",
       "    </tr>\n",
       "  </thead>\n",
       "  <tbody>\n",
       "    <tr>\n",
       "      <th>64103</th>\n",
       "      <td>10521</td>\n",
       "      <td>10521</td>\n",
       "      <td>10521</td>\n",
       "      <td>10521</td>\n",
       "      <td>10521</td>\n",
       "      <td>10521</td>\n",
       "    </tr>\n",
       "    <tr>\n",
       "      <th>33883</th>\n",
       "      <td>2151</td>\n",
       "      <td>2151</td>\n",
       "      <td>2151</td>\n",
       "      <td>2151</td>\n",
       "      <td>2151</td>\n",
       "      <td>2151</td>\n",
       "    </tr>\n",
       "    <tr>\n",
       "      <th>123040</th>\n",
       "      <td>1607</td>\n",
       "      <td>1607</td>\n",
       "      <td>1607</td>\n",
       "      <td>1607</td>\n",
       "      <td>1607</td>\n",
       "      <td>1607</td>\n",
       "    </tr>\n",
       "    <tr>\n",
       "      <th>154891</th>\n",
       "      <td>1210</td>\n",
       "      <td>1210</td>\n",
       "      <td>1210</td>\n",
       "      <td>1210</td>\n",
       "      <td>1210</td>\n",
       "      <td>1210</td>\n",
       "    </tr>\n",
       "    <tr>\n",
       "      <th>118823</th>\n",
       "      <td>1191</td>\n",
       "      <td>1191</td>\n",
       "      <td>1191</td>\n",
       "      <td>1191</td>\n",
       "      <td>1191</td>\n",
       "      <td>1191</td>\n",
       "    </tr>\n",
       "  </tbody>\n",
       "</table>\n",
       "</div>"
      ],
      "text/plain": [
       "         time  Receiver  price  Trans_amount_BTC  btc_to_usd   unix\n",
       "Sender                                                             \n",
       "64103   10521     10521  10521             10521       10521  10521\n",
       "33883    2151      2151   2151              2151        2151   2151\n",
       "123040   1607      1607   1607              1607        1607   1607\n",
       "154891   1210      1210   1210              1210        1210   1210\n",
       "118823   1191      1191   1191              1191        1191   1191"
      ]
     },
     "execution_count": 47,
     "metadata": {},
     "output_type": "execute_result"
    }
   ],
   "source": [
    "btc_data.groupby('Sender').count().sort_values(by='time', ascending=False).head(5)"
   ]
  },
  {
   "cell_type": "markdown",
   "metadata": {},
   "source": [
    "As we can see the most frequent sender is a sender numer 64103 (this number is a decoded name). Let's consider his transactions"
   ]
  },
  {
   "cell_type": "code",
   "execution_count": 48,
   "metadata": {},
   "outputs": [
    {
     "data": {
      "text/plain": [
       "array(['2017-11-18T00:00:00.000000000'], dtype='datetime64[ns]')"
      ]
     },
     "execution_count": 48,
     "metadata": {},
     "output_type": "execute_result"
    }
   ],
   "source": [
    "btc_data[btc_data.Sender == 64103].time.unique()"
   ]
  },
  {
   "cell_type": "code",
   "execution_count": 49,
   "metadata": {},
   "outputs": [
    {
     "data": {
      "text/plain": [
       "263.261872"
      ]
     },
     "execution_count": 49,
     "metadata": {},
     "output_type": "execute_result"
    }
   ],
   "source": [
    "btc_data[btc_data.Sender == 64103]['Trans_amount_BTC'].sum()"
   ]
  },
  {
   "cell_type": "code",
   "execution_count": 51,
   "metadata": {},
   "outputs": [
    {
     "data": {
      "text/plain": [
       "2030610.3463954162"
      ]
     },
     "execution_count": 51,
     "metadata": {},
     "output_type": "execute_result"
    }
   ],
   "source": [
    "btc_data[btc_data.Sender == 64103]['btc_to_usd'].sum()"
   ]
  },
  {
   "cell_type": "markdown",
   "metadata": {},
   "source": [
    "It looks suspiciously. This sender  transfered  263.261872 Bitcoin (2 030 610 USD) with 10521 different transactions at one day. Unfourtunetly, suggested bank transaction dataset has the last date 2017-09-05, so we can't find intersections with bank transactions."
   ]
  }
 ],
 "metadata": {
  "kernelspec": {
   "display_name": "Python 3",
   "language": "python",
   "name": "python3"
  },
  "language_info": {
   "codemirror_mode": {
    "name": "ipython",
    "version": 3
   },
   "file_extension": ".py",
   "mimetype": "text/x-python",
   "name": "python",
   "nbconvert_exporter": "python",
   "pygments_lexer": "ipython3",
   "version": "3.8.0"
  }
 },
 "nbformat": 4,
 "nbformat_minor": 4
}
